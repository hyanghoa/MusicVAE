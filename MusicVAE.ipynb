{
 "cells": [
  {
   "cell_type": "markdown",
   "id": "a197deed-0517-43b4-9650-32588a1bb29d",
   "metadata": {},
   "source": [
    "## Import"
   ]
  },
  {
   "cell_type": "code",
   "execution_count": 1,
   "id": "2f52963f-523c-4120-ba65-950d7dc01974",
   "metadata": {},
   "outputs": [],
   "source": [
    "import torch\n",
    "import numpy as np\n",
    "import torch.nn as nn\n",
    "from torch.nn import functional as F"
   ]
  },
  {
   "cell_type": "markdown",
   "id": "4e8b7e37-60b3-4f69-8e74-91408e6fcfc9",
   "metadata": {},
   "source": [
    "## musicVAE Model"
   ]
  },
  {
   "cell_type": "code",
   "execution_count": 3,
   "id": "0afee558-2ac2-4ea3-b1f7-206e59999149",
   "metadata": {},
   "outputs": [
    {
     "name": "stdout",
     "output_type": "stream",
     "text": [
      "MusicVAE(\n",
      "  (encoder): LSTM(7, 2048, num_layers=2, batch_first=True, bidirectional=True)\n",
      "  (mu_linear): Linear(in_features=4096, out_features=512, bias=True)\n",
      "  (sigma_linear): Linear(in_features=4096, out_features=512, bias=True)\n",
      "  (z_latent_linear): Sequential(\n",
      "    (0): Linear(in_features=512, out_features=512, bias=True)\n",
      "    (1): Tanh()\n",
      "  )\n",
      "  (conductor): LSTM(512, 1024, proj_size=512, num_layers=2, batch_first=True)\n",
      "  (c_linear): Sequential(\n",
      "    (0): Linear(in_features=512, out_features=1024, bias=True)\n",
      "    (1): Tanh()\n",
      "  )\n",
      "  (bottom_level_decoder): LSTM(1024, 1024, num_layers=2, batch_first=True)\n",
      "  (classifier): Linear(in_features=1024, out_features=7, bias=True)\n",
      ")\n",
      "z: torch.Size([2, 16, 512])\n",
      "c torch.Size([2, 16, 512])\n"
     ]
    }
   ],
   "source": [
    "class MusicVAE(nn.Module):\n",
    "    \n",
    "    def __init__(self, input_size, encoder_hidden_size, decoder_hidden_size):\n",
    "        super(MusicVAE, self).__init__()\n",
    "    \n",
    "        self.encoder = nn.LSTM(\n",
    "            batch_first=True,\n",
    "            input_size=input_size,\n",
    "            hidden_size=encoder_hidden_size,\n",
    "            num_layers=2,\n",
    "            bidirectional=True\n",
    "        )\n",
    "        self.mu_linear = nn.Linear(encoder_hidden_size*2, 512)\n",
    "        self.sigma_linear = nn.Linear(encoder_hidden_size*2, 512)\n",
    "        self.z_latent_linear = nn.Sequential(\n",
    "            nn.Linear(512, 512),\n",
    "            nn.Tanh(),\n",
    "        )\n",
    "        \n",
    "        self.conductor = nn.LSTM(\n",
    "            batch_first=True,\n",
    "            input_size=512,\n",
    "            hidden_size=decoder_hidden_size,\n",
    "            proj_size=512,\n",
    "            num_layers=2,\n",
    "            bidirectional=False\n",
    "        )\n",
    "        self.c_linear = nn.Sequential(\n",
    "            nn.Linear(512, 1024),\n",
    "            nn.Tanh(),\n",
    "        )\n",
    "            \n",
    "        self.bottom_level_decoder = nn.LSTM(\n",
    "            batch_first=True,\n",
    "            input_size=decoder_hidden_size,\n",
    "            hidden_size=decoder_hidden_size,\n",
    "            num_layers=2,\n",
    "            bidirectional=False\n",
    "        )\n",
    "        self.classifier = nn.Linear(1024, INPUT_SIZE)\n",
    "        \n",
    "    def forward(self, x):\n",
    "        z = self.encode(x)\n",
    "        z = self.z_latent_linear(z)\n",
    "        self.decode(z)\n",
    "        \n",
    "        \n",
    "    def encode(self, x):\n",
    "        x, _ = self.encoder(x)\n",
    "        mu = self.mu_linear(x)\n",
    "        sigma = F.softplus(self.sigma_linear(x))\n",
    "        \n",
    "        sigma = torch.exp(0.5 * sigma)\n",
    "        eps = torch.randn_like(sigma)\n",
    "        return mu + sigma * eps\n",
    "    \n",
    "    def decode(self, x):\n",
    "        c_vector, _ = self.conductor(x)\n",
    "        c_vector = self.c_linear(c_vector)\n",
    "        \n",
    "        h, c = torch.zeros(c_vector.size(0), c_vector.size(2)), torch.zeros(c_vector.size(0), c_vector.size(2))\n",
    "        for i in range(16):\n",
    "            x, (h, c) = self.bottom_level_decoder(c_vector[:, i, :], (h, c))\n",
    "            x = self.classifier(x)\n",
    "            x = F.softmax(x, dim=-1)\n",
    "\n",
    "        \n",
    "        \n",
    "# TEST\n",
    "INPUT_SIZE = 7\n",
    "BATCH_SIZE = 2\n",
    "ENCODER_HIDDEN_SIZE = 2048\n",
    "DECODER_HIDDEN_SIZE = 1024\n",
    "\n",
    "model = MusicVAE(input_size=INPUT_SIZE, encoder_hidden_size=ENCODER_HIDDEN_SIZE, decoder_hidden_size=DECODER_HIDDEN_SIZE)\n",
    "print(model)\n",
    "model(torch.randn(BATCH_SIZE, 16, INPUT_SIZE))"
   ]
  },
  {
   "cell_type": "code",
   "execution_count": null,
   "id": "72006230-91e0-4ab4-aa1b-44ac502cfe31",
   "metadata": {},
   "outputs": [],
   "source": []
  }
 ],
 "metadata": {
  "kernelspec": {
   "display_name": "Python 3 (ipykernel)",
   "language": "python",
   "name": "python3"
  },
  "language_info": {
   "codemirror_mode": {
    "name": "ipython",
    "version": 3
   },
   "file_extension": ".py",
   "mimetype": "text/x-python",
   "name": "python",
   "nbconvert_exporter": "python",
   "pygments_lexer": "ipython3",
   "version": "3.8.10"
  }
 },
 "nbformat": 4,
 "nbformat_minor": 5
}
